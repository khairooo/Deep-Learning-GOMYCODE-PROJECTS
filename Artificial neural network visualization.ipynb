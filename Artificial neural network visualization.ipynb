{
  "nbformat": 4,
  "nbformat_minor": 0,
  "metadata": {
    "colab": {
      "name": "Untitled18.ipynb",
      "provenance": [],
      "collapsed_sections": [],
      "authorship_tag": "ABX9TyMjzurMsHD1m6fm9xmxk9Sn",
      "include_colab_link": true
    },
    "kernelspec": {
      "name": "python3",
      "display_name": "Python 3"
    },
    "language_info": {
      "name": "python"
    }
  },
  "cells": [
    {
      "cell_type": "markdown",
      "metadata": {
        "id": "view-in-github",
        "colab_type": "text"
      },
      "source": [
        "<a href=\"https://colab.research.google.com/github/khairooo/Deep-Learning-GOMYCODE-PROJECTS/blob/main/Artificial%20neural%20network%20visualization.ipynb\" target=\"_parent\"><img src=\"https://colab.research.google.com/assets/colab-badge.svg\" alt=\"Open In Colab\"/></a>"
      ]
    },
    {
      "cell_type": "code",
      "metadata": {
        "colab": {
          "base_uri": "https://localhost:8080/"
        },
        "id": "BFHrOeP9ljC_",
        "outputId": "8ef26c94-f220-47b0-c6df-fb6d2b9a5740"
      },
      "source": [
        "pip install keras "
      ],
      "execution_count": 58,
      "outputs": [
        {
          "output_type": "stream",
          "text": [
            "Requirement already satisfied: keras in /usr/local/lib/python3.7/dist-packages (2.4.3)\n",
            "Requirement already satisfied: scipy>=0.14 in /usr/local/lib/python3.7/dist-packages (from keras) (1.4.1)\n",
            "Requirement already satisfied: h5py in /usr/local/lib/python3.7/dist-packages (from keras) (2.10.0)\n",
            "Requirement already satisfied: numpy>=1.9.1 in /usr/local/lib/python3.7/dist-packages (from keras) (1.19.5)\n",
            "Requirement already satisfied: pyyaml in /usr/local/lib/python3.7/dist-packages (from keras) (3.13)\n",
            "Requirement already satisfied: six in /usr/local/lib/python3.7/dist-packages (from h5py->keras) (1.15.0)\n"
          ],
          "name": "stdout"
        }
      ]
    },
    {
      "cell_type": "code",
      "metadata": {
        "colab": {
          "base_uri": "https://localhost:8080/"
        },
        "id": "EgDX_WEiZe4u",
        "outputId": "558b9738-42b4-4310-ed6a-bb8500d15ae8"
      },
      "source": [
        "pip install graphviz"
      ],
      "execution_count": 59,
      "outputs": [
        {
          "output_type": "stream",
          "text": [
            "Requirement already satisfied: graphviz in /usr/local/lib/python3.7/dist-packages (0.10.1)\n"
          ],
          "name": "stdout"
        }
      ]
    },
    {
      "cell_type": "code",
      "metadata": {
        "colab": {
          "base_uri": "https://localhost:8080/"
        },
        "id": "ERXTNY1-m65A",
        "outputId": "2369d46d-15d0-4518-8791-e80800e25d67"
      },
      "source": [
        "!pip3 install ann_visualizer"
      ],
      "execution_count": 60,
      "outputs": [
        {
          "output_type": "stream",
          "text": [
            "Requirement already satisfied: ann_visualizer in /usr/local/lib/python3.7/dist-packages (2.5)\n"
          ],
          "name": "stdout"
        }
      ]
    },
    {
      "cell_type": "code",
      "metadata": {
        "id": "qOvFgcMkk4Hq"
      },
      "source": [
        "from ann_visualizer.visualize import ann_viz\n",
        "from graphviz import Source\n",
        "import numpy as np "
      ],
      "execution_count": 61,
      "outputs": []
    },
    {
      "cell_type": "code",
      "metadata": {
        "id": "nyItGe_ggLO6"
      },
      "source": [
        "from keras.models import Sequential\n",
        "from keras.layers import Dense\n",
        "import matplotlib.pyplot as plt\n",
        " "
      ],
      "execution_count": 62,
      "outputs": []
    },
    {
      "cell_type": "code",
      "metadata": {
        "id": "z23tPAhSgOfB"
      },
      "source": [
        "#training_data = np.array([[0,0],[0,1],[1,0],[1,1]], \"float32\")\n",
        "#target_data = np.array([[0],[1],[1],[0]], \"float32\")"
      ],
      "execution_count": 63,
      "outputs": []
    },
    {
      "cell_type": "code",
      "metadata": {
        "id": "j3QAUIJNgVpc"
      },
      "source": [
        "model = Sequential()\n",
        "model.add(Dense(3, input_dim=4, activation='relu'))\n",
        "model.add(Dense(2, input_dim = 3,activation='relu'))\n",
        "model.add(Dense(1, input_dim = 2, activation=\"relu\"))\n",
        "#model.compile(loss='mean_squared_error', optimizer='adam')"
      ],
      "execution_count": 64,
      "outputs": []
    },
    {
      "cell_type": "code",
      "metadata": {
        "id": "RwCZO7gkghRc"
      },
      "source": [
        "ann_viz(model, title=\"Neural network visualization\",view=True)"
      ],
      "execution_count": 65,
      "outputs": []
    },
    {
      "cell_type": "code",
      "metadata": {
        "colab": {
          "base_uri": "https://localhost:8080/",
          "height": 995
        },
        "id": "3GcSRl8Wgn2d",
        "outputId": "5360dbf6-5685-40cc-ccb1-4e348bbba33c"
      },
      "source": [
        "graph_source = Source.from_file('network.gv')\n",
        "graph_source"
      ],
      "execution_count": 66,
      "outputs": [
        {
          "output_type": "execute_result",
          "data": {
            "text/plain": [
              "<graphviz.files.Source at 0x7f986f12cdd0>"
            ],
            "image/svg+xml": "<?xml version=\"1.0\" encoding=\"UTF-8\" standalone=\"no\"?>\n<!DOCTYPE svg PUBLIC \"-//W3C//DTD SVG 1.1//EN\"\n \"http://www.w3.org/Graphics/SVG/1.1/DTD/svg11.dtd\">\n<!-- Generated by graphviz version 2.40.1 (20161225.0304)\n -->\n<!-- Title: g Pages: 1 -->\n<svg width=\"400pt\" height=\"731pt\"\n viewBox=\"0.00 0.00 400.00 730.60\" xmlns=\"http://www.w3.org/2000/svg\" xmlns:xlink=\"http://www.w3.org/1999/xlink\">\n<g id=\"graph0\" class=\"graph\" transform=\"scale(1 1) rotate(0) translate(4 726.5963)\">\n<title>g</title>\n<polygon fill=\"#ffffff\" stroke=\"transparent\" points=\"-4,4 -4,-726.5963 396,-726.5963 396,4 -4,4\"/>\n<g id=\"clust1\" class=\"cluster\">\n<title>cluster_input</title>\n<polygon fill=\"none\" stroke=\"#ffffff\" points=\"8,-576.5963 8,-714.5963 384,-714.5963 384,-576.5963 8,-576.5963\"/>\n<text text-anchor=\"middle\" x=\"196\" y=\"-699.3963\" font-family=\"Times,serif\" font-size=\"14.00\" fill=\"#000000\">Neural network visualization</text>\n<text text-anchor=\"middle\" x=\"196\" y=\"-636.3963\" font-family=\"Times,serif\" font-size=\"14.00\" fill=\"#000000\">Input Layer</text>\n</g>\n<g id=\"clust2\" class=\"cluster\">\n<title>cluster_1</title>\n<polygon fill=\"none\" stroke=\"#ffffff\" points=\"8,-396.5963 8,-448.5963 276,-448.5963 276,-396.5963 8,-396.5963\"/>\n</g>\n<g id=\"clust3\" class=\"cluster\">\n<title>cluster_2</title>\n<polygon fill=\"none\" stroke=\"#ffffff\" points=\"9,-216.5963 9,-268.5963 169,-268.5963 169,-216.5963 9,-216.5963\"/>\n</g>\n<g id=\"clust4\" class=\"cluster\">\n<title>cluster_output</title>\n<polygon fill=\"none\" stroke=\"#ffffff\" points=\"61,-8 61,-88.5963 155,-88.5963 155,-8 61,-8\"/>\n<text text-anchor=\"middle\" x=\"108\" y=\"-15.8\" font-family=\"Times,serif\" font-size=\"14.00\" fill=\"#000000\">Output Layer</text>\n</g>\n<!-- 1 -->\n<g id=\"node1\" class=\"node\">\n<title>1</title>\n<ellipse fill=\"#2ecc71\" stroke=\"#2ecc71\" cx=\"358\" cy=\"-602.5963\" rx=\"18\" ry=\"18\"/>\n<text text-anchor=\"middle\" x=\"358\" y=\"-598.8963\" font-family=\"Times,serif\" font-size=\"14.00\" fill=\"#2ecc71\">1</text>\n</g>\n<!-- 5 -->\n<g id=\"node5\" class=\"node\">\n<title>5</title>\n<ellipse fill=\"#3498db\" stroke=\"#3498db\" cx=\"34\" cy=\"-422.5963\" rx=\"18\" ry=\"18\"/>\n<text text-anchor=\"middle\" x=\"34\" y=\"-418.8963\" font-family=\"Times,serif\" font-size=\"14.00\" fill=\"#3498db\">5</text>\n</g>\n<!-- 1&#45;&gt;5 -->\n<g id=\"edge1\" class=\"edge\">\n<title>1&#45;&gt;5</title>\n<path fill=\"none\" stroke=\"#707070\" d=\"M341.9328,-593.6701C286.6437,-562.9539 104.6331,-461.8369 49.7821,-431.3642\"/>\n</g>\n<!-- 6 -->\n<g id=\"node6\" class=\"node\">\n<title>6</title>\n<ellipse fill=\"#3498db\" stroke=\"#3498db\" cx=\"250\" cy=\"-422.5963\" rx=\"18\" ry=\"18\"/>\n<text text-anchor=\"middle\" x=\"250\" y=\"-418.8963\" font-family=\"Times,serif\" font-size=\"14.00\" fill=\"#3498db\">6</text>\n</g>\n<!-- 1&#45;&gt;6 -->\n<g id=\"edge5\" class=\"edge\">\n<title>1&#45;&gt;6</title>\n<path fill=\"none\" stroke=\"#707070\" d=\"M348.6046,-586.9374C328.128,-552.8097 279.6832,-472.0683 259.2967,-438.0909\"/>\n</g>\n<!-- 7 -->\n<g id=\"node7\" class=\"node\">\n<title>7</title>\n<ellipse fill=\"#3498db\" stroke=\"#3498db\" cx=\"142\" cy=\"-422.5963\" rx=\"18\" ry=\"18\"/>\n<text text-anchor=\"middle\" x=\"142\" y=\"-418.8963\" font-family=\"Times,serif\" font-size=\"14.00\" fill=\"#3498db\">7</text>\n</g>\n<!-- 1&#45;&gt;7 -->\n<g id=\"edge9\" class=\"edge\">\n<title>1&#45;&gt;7</title>\n<path fill=\"none\" stroke=\"#707070\" d=\"M344.1596,-591.0627C305.2387,-558.6286 195.1251,-466.8672 156.0046,-434.2668\"/>\n</g>\n<!-- 2 -->\n<g id=\"node2\" class=\"node\">\n<title>2</title>\n<ellipse fill=\"#2ecc71\" stroke=\"#2ecc71\" cx=\"250\" cy=\"-602.5963\" rx=\"18\" ry=\"18\"/>\n<text text-anchor=\"middle\" x=\"250\" y=\"-598.8963\" font-family=\"Times,serif\" font-size=\"14.00\" fill=\"#2ecc71\">2</text>\n</g>\n<!-- 2&#45;&gt;5 -->\n<g id=\"edge2\" class=\"edge\">\n<title>2&#45;&gt;5</title>\n<path fill=\"none\" stroke=\"#707070\" d=\"M236.1596,-591.0627C197.2387,-558.6286 87.1251,-466.8672 48.0046,-434.2668\"/>\n</g>\n<!-- 2&#45;&gt;6 -->\n<g id=\"edge6\" class=\"edge\">\n<title>2&#45;&gt;6</title>\n<path fill=\"none\" stroke=\"#707070\" d=\"M250,-584.3464C250,-549.7573 250,-475.0456 250,-440.6269\"/>\n</g>\n<!-- 2&#45;&gt;7 -->\n<g id=\"edge10\" class=\"edge\">\n<title>2&#45;&gt;7</title>\n<path fill=\"none\" stroke=\"#707070\" d=\"M240.6046,-586.9374C220.128,-552.8097 171.6832,-472.0683 151.2967,-438.0909\"/>\n</g>\n<!-- 3 -->\n<g id=\"node3\" class=\"node\">\n<title>3</title>\n<ellipse fill=\"#2ecc71\" stroke=\"#2ecc71\" cx=\"142\" cy=\"-602.5963\" rx=\"18\" ry=\"18\"/>\n<text text-anchor=\"middle\" x=\"142\" y=\"-598.8963\" font-family=\"Times,serif\" font-size=\"14.00\" fill=\"#2ecc71\">3</text>\n</g>\n<!-- 3&#45;&gt;5 -->\n<g id=\"edge3\" class=\"edge\">\n<title>3&#45;&gt;5</title>\n<path fill=\"none\" stroke=\"#707070\" d=\"M132.6046,-586.9374C112.128,-552.8097 63.6832,-472.0683 43.2967,-438.0909\"/>\n</g>\n<!-- 3&#45;&gt;6 -->\n<g id=\"edge7\" class=\"edge\">\n<title>3&#45;&gt;6</title>\n<path fill=\"none\" stroke=\"#707070\" d=\"M151.3954,-586.9374C171.872,-552.8097 220.3168,-472.0683 240.7033,-438.0909\"/>\n</g>\n<!-- 3&#45;&gt;7 -->\n<g id=\"edge11\" class=\"edge\">\n<title>3&#45;&gt;7</title>\n<path fill=\"none\" stroke=\"#707070\" d=\"M142,-584.3464C142,-549.7573 142,-475.0456 142,-440.6269\"/>\n</g>\n<!-- 4 -->\n<g id=\"node4\" class=\"node\">\n<title>4</title>\n<ellipse fill=\"#2ecc71\" stroke=\"#2ecc71\" cx=\"34\" cy=\"-602.5963\" rx=\"18\" ry=\"18\"/>\n<text text-anchor=\"middle\" x=\"34\" y=\"-598.8963\" font-family=\"Times,serif\" font-size=\"14.00\" fill=\"#2ecc71\">4</text>\n</g>\n<!-- 4&#45;&gt;5 -->\n<g id=\"edge4\" class=\"edge\">\n<title>4&#45;&gt;5</title>\n<path fill=\"none\" stroke=\"#707070\" d=\"M34,-584.3464C34,-549.7573 34,-475.0456 34,-440.6269\"/>\n</g>\n<!-- 4&#45;&gt;6 -->\n<g id=\"edge8\" class=\"edge\">\n<title>4&#45;&gt;6</title>\n<path fill=\"none\" stroke=\"#707070\" d=\"M47.8404,-591.0627C86.7613,-558.6286 196.8749,-466.8672 235.9954,-434.2668\"/>\n</g>\n<!-- 4&#45;&gt;7 -->\n<g id=\"edge12\" class=\"edge\">\n<title>4&#45;&gt;7</title>\n<path fill=\"none\" stroke=\"#707070\" d=\"M43.3954,-586.9374C63.872,-552.8097 112.3168,-472.0683 132.7033,-438.0909\"/>\n</g>\n<!-- 8 -->\n<g id=\"node8\" class=\"node\">\n<title>8</title>\n<ellipse fill=\"#3498db\" stroke=\"#3498db\" cx=\"143\" cy=\"-242.5963\" rx=\"18\" ry=\"18\"/>\n<text text-anchor=\"middle\" x=\"143\" y=\"-238.8963\" font-family=\"Times,serif\" font-size=\"14.00\" fill=\"#3498db\">8</text>\n</g>\n<!-- 5&#45;&gt;8 -->\n<g id=\"edge13\" class=\"edge\">\n<title>5&#45;&gt;8</title>\n<path fill=\"none\" stroke=\"#707070\" d=\"M43.4824,-406.9374C64.1486,-372.8097 113.042,-292.0683 133.6172,-258.0909\"/>\n</g>\n<!-- 9 -->\n<g id=\"node9\" class=\"node\">\n<title>9</title>\n<ellipse fill=\"#3498db\" stroke=\"#3498db\" cx=\"35\" cy=\"-242.5963\" rx=\"18\" ry=\"18\"/>\n<text text-anchor=\"middle\" x=\"35\" y=\"-238.8963\" font-family=\"Times,serif\" font-size=\"14.00\" fill=\"#3498db\">9</text>\n</g>\n<!-- 5&#45;&gt;9 -->\n<g id=\"edge16\" class=\"edge\">\n<title>5&#45;&gt;9</title>\n<path fill=\"none\" stroke=\"#707070\" d=\"M34.1014,-404.3464C34.2935,-369.7573 34.7086,-295.0456 34.8998,-260.6269\"/>\n</g>\n<!-- 6&#45;&gt;8 -->\n<g id=\"edge14\" class=\"edge\">\n<title>6&#45;&gt;8</title>\n<path fill=\"none\" stroke=\"#707070\" d=\"M240.6916,-406.9374C220.4046,-372.8097 172.4083,-292.0683 152.2107,-258.0909\"/>\n</g>\n<!-- 6&#45;&gt;9 -->\n<g id=\"edge17\" class=\"edge\">\n<title>6&#45;&gt;9</title>\n<path fill=\"none\" stroke=\"#707070\" d=\"M235.8932,-410.786C196.8431,-378.0929 87.6553,-286.6798 48.8792,-254.2161\"/>\n</g>\n<!-- 7&#45;&gt;8 -->\n<g id=\"edge15\" class=\"edge\">\n<title>7&#45;&gt;8</title>\n<path fill=\"none\" stroke=\"#707070\" d=\"M142.1014,-404.3464C142.2935,-369.7573 142.7086,-295.0456 142.8998,-260.6269\"/>\n</g>\n<!-- 7&#45;&gt;9 -->\n<g id=\"edge18\" class=\"edge\">\n<title>7&#45;&gt;9</title>\n<path fill=\"none\" stroke=\"#707070\" d=\"M132.6916,-406.9374C112.4046,-372.8097 64.4083,-292.0683 44.2107,-258.0909\"/>\n</g>\n<!-- 10 -->\n<g id=\"node10\" class=\"node\">\n<title>10</title>\n<ellipse fill=\"#e74c3c\" stroke=\"#e74c3c\" cx=\"108\" cy=\"-59.7982\" rx=\"20.5982\" ry=\"20.5982\"/>\n<text text-anchor=\"middle\" x=\"108\" y=\"-56.0982\" font-family=\"Times,serif\" font-size=\"14.00\" fill=\"#e74c3c\">10</text>\n</g>\n<!-- 8&#45;&gt;10 -->\n<g id=\"edge19\" class=\"edge\">\n<title>8&#45;&gt;10</title>\n<path fill=\"none\" stroke=\"#707070\" d=\"M139.5803,-224.736C133.0439,-190.5978 118.8142,-116.2788 111.9115,-80.2271\"/>\n</g>\n<!-- 9&#45;&gt;10 -->\n<g id=\"edge20\" class=\"edge\">\n<title>9&#45;&gt;10</title>\n<path fill=\"none\" stroke=\"#707070\" d=\"M41.7368,-225.7268C55.2906,-191.7868 85.7868,-115.4219 100.1877,-79.3608\"/>\n</g>\n</g>\n</svg>\n"
          },
          "metadata": {
            "tags": []
          },
          "execution_count": 66
        }
      ]
    },
    {
      "cell_type": "code",
      "metadata": {
        "colab": {
          "base_uri": "https://localhost:8080/"
        },
        "id": "cgE_jat5kBIS",
        "outputId": "4241889a-f974-4a33-abe0-7299651bd3d2"
      },
      "source": [
        "model.get_weights()"
      ],
      "execution_count": 67,
      "outputs": [
        {
          "output_type": "execute_result",
          "data": {
            "text/plain": [
              "[array([[-0.28054667, -0.6737027 ,  0.68513334],\n",
              "        [-0.83305013, -0.26311183,  0.15294719],\n",
              "        [ 0.8570652 , -0.6771636 ,  0.2855332 ],\n",
              "        [ 0.875631  ,  0.9090272 ,  0.1102494 ]], dtype=float32),\n",
              " array([0., 0., 0.], dtype=float32),\n",
              " array([[ 0.1029923 , -0.7331672 ],\n",
              "        [ 0.86163163,  1.0707228 ],\n",
              "        [-0.57627183, -1.0051503 ]], dtype=float32),\n",
              " array([0., 0.], dtype=float32),\n",
              " array([[-1.3046203],\n",
              "        [ 0.8849455]], dtype=float32),\n",
              " array([0.], dtype=float32)]"
            ]
          },
          "metadata": {
            "tags": []
          },
          "execution_count": 67
        }
      ]
    }
  ]
}